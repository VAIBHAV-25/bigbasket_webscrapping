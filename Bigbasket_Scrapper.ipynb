{
  "nbformat": 4,
  "nbformat_minor": 0,
  "metadata": {
    "colab": {
      "name": "Bigbasket-Scrapper",
      "provenance": [],
      "collapsed_sections": [],
      "include_colab_link": true
    },
    "kernelspec": {
      "display_name": "Python 3",
      "name": "python3"
    }
  },
  "cells": [
    {
      "cell_type": "markdown",
      "metadata": {
        "id": "view-in-github",
        "colab_type": "text"
      },
      "source": [
        "<a href=\"https://colab.research.google.com/github/robinsdeepak/BigBasket-Scrapper/blob/master/Bigbasket_Scrapper.ipynb\" target=\"_parent\"><img src=\"https://colab.research.google.com/assets/colab-badge.svg\" alt=\"Open In Colab\"/></a>"
      ]
    },
    {
      "cell_type": "code",
      "metadata": {
        "id": "qIFQG_MbdLXT",
        "colab_type": "code",
        "colab": {}
      },
      "source": [
        "!apt-get update > /dev/null # --fix-missing\n",
        "!apt install chromium-chromedriver > /dev/null\n",
        "# !cp /usr/lib/chromium-browser/chromedriver /usr/bin > /dev/null\n",
        "!pip install selenium > /dev/null"
      ],
      "execution_count": null,
      "outputs": []
    },
    {
      "cell_type": "code",
      "metadata": {
        "id": "P2xT3rSUw-L2",
        "colab_type": "code",
        "colab": {}
      },
      "source": [
        "!git clone https://github.com/robinsdeepak/BigBasket-Scrapper.git\n",
        "%cd BigBasket-Scrapper"
      ],
      "execution_count": null,
      "outputs": []
    },
    {
      "cell_type": "code",
      "metadata": {
        "id": "ILZPfJSTtKHT",
        "colab_type": "code",
        "colab": {}
      },
      "source": [
        "!python Script.py"
      ],
      "execution_count": null,
      "outputs": []
    },
    {
      "cell_type": "code",
      "metadata": {
        "id": "FoGGm5xjw37g",
        "colab_type": "code",
        "colab": {}
      },
      "source": [
        ""
      ],
      "execution_count": null,
      "outputs": []
    }
  ]
}